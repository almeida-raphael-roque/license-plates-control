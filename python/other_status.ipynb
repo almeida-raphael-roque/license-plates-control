{
 "cells": [
  {
   "cell_type": "code",
   "execution_count": 2,
   "id": "9c7e76e5",
   "metadata": {},
   "outputs": [],
   "source": [
    "import pandas as pd\n",
    "import openpyxl\n",
    "import awswrangler as awr\n",
    "\n",
    "xlsx = r\"C:\\Users\\raphael.almeida\\OneDrive - Grupo Unus\\analise de dados - Arquivos em excel\\Relatório de Ativações Placas\\placas_desativadas.xlsx\"\n",
    "df_outras = pd.read_excel(xlsx, engine = 'openpyxl')\n"
   ]
  },
  {
   "cell_type": "code",
   "execution_count": 3,
   "id": "fda1bff9",
   "metadata": {},
   "outputs": [
    {
     "data": {
      "text/plain": [
       "77"
      ]
     },
     "execution_count": 3,
     "metadata": {},
     "output_type": "execute_result"
    }
   ],
   "source": [
    "df_outras.shape[0]"
   ]
  },
  {
   "cell_type": "code",
   "execution_count": 4,
   "id": "58a1dba2",
   "metadata": {},
   "outputs": [
    {
     "data": {
      "text/html": [
       "<div>\n",
       "<style scoped>\n",
       "    .dataframe tbody tr th:only-of-type {\n",
       "        vertical-align: middle;\n",
       "    }\n",
       "\n",
       "    .dataframe tbody tr th {\n",
       "        vertical-align: top;\n",
       "    }\n",
       "\n",
       "    .dataframe thead th {\n",
       "        text-align: right;\n",
       "    }\n",
       "</style>\n",
       "<table border=\"1\" class=\"dataframe\">\n",
       "  <thead>\n",
       "    <tr style=\"text-align: right;\">\n",
       "      <th></th>\n",
       "      <th>placa</th>\n",
       "      <th>chassi</th>\n",
       "      <th>id_placa</th>\n",
       "      <th>id_veiculo</th>\n",
       "      <th>id_carroceria</th>\n",
       "      <th>matricula</th>\n",
       "      <th>conjunto</th>\n",
       "      <th>unidade</th>\n",
       "      <th>consultor</th>\n",
       "      <th>status</th>\n",
       "      <th>...</th>\n",
       "      <th>empresa</th>\n",
       "      <th>coverage</th>\n",
       "      <th>beneficio</th>\n",
       "      <th>categoria</th>\n",
       "      <th>tipo_categoria</th>\n",
       "      <th>data_ativacao_beneficio</th>\n",
       "      <th>status_beneficio</th>\n",
       "      <th>data_atualizacao</th>\n",
       "      <th>consultor_ativo</th>\n",
       "      <th>id_beneficio</th>\n",
       "    </tr>\n",
       "  </thead>\n",
       "  <tbody>\n",
       "    <tr>\n",
       "      <th>0</th>\n",
       "      <td>REA0B58</td>\n",
       "      <td>9BM958443MB192917</td>\n",
       "      <td>339427</td>\n",
       "      <td>339427</td>\n",
       "      <td>&lt;NA&gt;</td>\n",
       "      <td>1518</td>\n",
       "      <td>1819</td>\n",
       "      <td>MICRO B - MARIA ISABELA CARNEIRO DE OLIVEIRA</td>\n",
       "      <td>Maria Isabela Carneiro O</td>\n",
       "      <td>ATIVO</td>\n",
       "      <td>...</td>\n",
       "      <td>Tag</td>\n",
       "      <td>698582</td>\n",
       "      <td>Casco PT (VEÍCULO)</td>\n",
       "      <td>PESADOS - CAVALO MECÂNICO</td>\n",
       "      <td>MERCEDES</td>\n",
       "      <td>2025-08-26</td>\n",
       "      <td>ATIVO</td>\n",
       "      <td>2025-08-26</td>\n",
       "      <td>S</td>\n",
       "      <td>34</td>\n",
       "    </tr>\n",
       "    <tr>\n",
       "      <th>1</th>\n",
       "      <td>HFT5A79</td>\n",
       "      <td>9BVJM30C7BE777523</td>\n",
       "      <td>308939</td>\n",
       "      <td>308939</td>\n",
       "      <td>&lt;NA&gt;</td>\n",
       "      <td>1519</td>\n",
       "      <td>1810</td>\n",
       "      <td>TRANSDESK DIGITAL LTDA</td>\n",
       "      <td>Julia Badia</td>\n",
       "      <td>ATIVO</td>\n",
       "      <td>...</td>\n",
       "      <td>Tag</td>\n",
       "      <td>698535</td>\n",
       "      <td>APP</td>\n",
       "      <td>PADRÃO</td>\n",
       "      <td>PADRÃO</td>\n",
       "      <td>2025-09-01</td>\n",
       "      <td>ATIVO</td>\n",
       "      <td>2025-09-01</td>\n",
       "      <td>S</td>\n",
       "      <td>48</td>\n",
       "    </tr>\n",
       "    <tr>\n",
       "      <th>2</th>\n",
       "      <td>HFT5A79</td>\n",
       "      <td>9BVJM30C7BE777523</td>\n",
       "      <td>308939</td>\n",
       "      <td>308939</td>\n",
       "      <td>&lt;NA&gt;</td>\n",
       "      <td>1519</td>\n",
       "      <td>1810</td>\n",
       "      <td>TRANSDESK DIGITAL LTDA</td>\n",
       "      <td>Julia Badia</td>\n",
       "      <td>ATIVO</td>\n",
       "      <td>...</td>\n",
       "      <td>Tag</td>\n",
       "      <td>698529</td>\n",
       "      <td>Casco PT (VEÍCULO)</td>\n",
       "      <td>PESADOS - CAVALO MECÂNICO</td>\n",
       "      <td>VOLVO</td>\n",
       "      <td>2025-09-01</td>\n",
       "      <td>ATIVO</td>\n",
       "      <td>2025-09-01</td>\n",
       "      <td>S</td>\n",
       "      <td>34</td>\n",
       "    </tr>\n",
       "    <tr>\n",
       "      <th>3</th>\n",
       "      <td>AUF0D91</td>\n",
       "      <td>9BVAS02C7BE775482</td>\n",
       "      <td>290791</td>\n",
       "      <td>290791</td>\n",
       "      <td>&lt;NA&gt;</td>\n",
       "      <td>1521</td>\n",
       "      <td>1817</td>\n",
       "      <td>UNIDADE ITAPEJARA</td>\n",
       "      <td>Milena Dalbosco</td>\n",
       "      <td>ATIVO</td>\n",
       "      <td>...</td>\n",
       "      <td>Tag</td>\n",
       "      <td>698576</td>\n",
       "      <td>APP</td>\n",
       "      <td>PADRÃO</td>\n",
       "      <td>PADRÃO</td>\n",
       "      <td>2025-08-26</td>\n",
       "      <td>ATIVO</td>\n",
       "      <td>2025-08-26</td>\n",
       "      <td>S</td>\n",
       "      <td>48</td>\n",
       "    </tr>\n",
       "    <tr>\n",
       "      <th>4</th>\n",
       "      <td>AUF0D91</td>\n",
       "      <td>9BVAS02C7BE775482</td>\n",
       "      <td>290791</td>\n",
       "      <td>290791</td>\n",
       "      <td>&lt;NA&gt;</td>\n",
       "      <td>1521</td>\n",
       "      <td>1817</td>\n",
       "      <td>UNIDADE ITAPEJARA</td>\n",
       "      <td>Milena Dalbosco</td>\n",
       "      <td>ATIVO</td>\n",
       "      <td>...</td>\n",
       "      <td>Tag</td>\n",
       "      <td>698575</td>\n",
       "      <td>RCF</td>\n",
       "      <td>PESADOS - CAVALO MECÂNICO</td>\n",
       "      <td>PADRÃO</td>\n",
       "      <td>2025-08-26</td>\n",
       "      <td>ATIVO</td>\n",
       "      <td>2025-08-26</td>\n",
       "      <td>S</td>\n",
       "      <td>40</td>\n",
       "    </tr>\n",
       "  </tbody>\n",
       "</table>\n",
       "<p>5 rows × 25 columns</p>\n",
       "</div>"
      ],
      "text/plain": [
       "     placa             chassi  id_placa  id_veiculo  id_carroceria  matricula  \\\n",
       "0  REA0B58  9BM958443MB192917    339427      339427           <NA>       1518   \n",
       "1  HFT5A79  9BVJM30C7BE777523    308939      308939           <NA>       1519   \n",
       "2  HFT5A79  9BVJM30C7BE777523    308939      308939           <NA>       1519   \n",
       "3  AUF0D91  9BVAS02C7BE775482    290791      290791           <NA>       1521   \n",
       "4  AUF0D91  9BVAS02C7BE775482    290791      290791           <NA>       1521   \n",
       "\n",
       "   conjunto                                        unidade  \\\n",
       "0      1819  MICRO B - MARIA ISABELA CARNEIRO DE OLIVEIRA    \n",
       "1      1810                         TRANSDESK DIGITAL LTDA   \n",
       "2      1810                         TRANSDESK DIGITAL LTDA   \n",
       "3      1817                              UNIDADE ITAPEJARA   \n",
       "4      1817                              UNIDADE ITAPEJARA   \n",
       "\n",
       "                  consultor status  ... empresa coverage           beneficio  \\\n",
       "0  Maria Isabela Carneiro O  ATIVO  ...     Tag   698582  Casco PT (VEÍCULO)   \n",
       "1               Julia Badia  ATIVO  ...     Tag   698535                 APP   \n",
       "2               Julia Badia  ATIVO  ...     Tag   698529  Casco PT (VEÍCULO)   \n",
       "3           Milena Dalbosco  ATIVO  ...     Tag   698576                 APP   \n",
       "4           Milena Dalbosco  ATIVO  ...     Tag   698575                 RCF   \n",
       "\n",
       "                   categoria tipo_categoria data_ativacao_beneficio  \\\n",
       "0  PESADOS - CAVALO MECÂNICO       MERCEDES              2025-08-26   \n",
       "1                     PADRÃO         PADRÃO              2025-09-01   \n",
       "2  PESADOS - CAVALO MECÂNICO          VOLVO              2025-09-01   \n",
       "3                     PADRÃO         PADRÃO              2025-08-26   \n",
       "4  PESADOS - CAVALO MECÂNICO         PADRÃO              2025-08-26   \n",
       "\n",
       "   status_beneficio data_atualizacao consultor_ativo id_beneficio  \n",
       "0             ATIVO       2025-08-26               S           34  \n",
       "1             ATIVO       2025-09-01               S           48  \n",
       "2             ATIVO       2025-09-01               S           34  \n",
       "3             ATIVO       2025-08-26               S           48  \n",
       "4             ATIVO       2025-08-26               S           40  \n",
       "\n",
       "[5 rows x 25 columns]"
      ]
     },
     "execution_count": 4,
     "metadata": {},
     "output_type": "execute_result"
    }
   ],
   "source": [
    "query_path = r\"C:\\Users\\raphael.almeida\\Documents\\Processos\\placas_movimentacoes\\sql\\others_query.sql\"\n",
    "with open(query_path, \"r\") as file:\n",
    "    query = file.read()\n",
    "\n",
    "df_query = awr.athena.read_sql_query(query, database='silver')\n",
    "df_query.head()  "
   ]
  },
  {
   "cell_type": "code",
   "execution_count": 5,
   "id": "386d0629",
   "metadata": {},
   "outputs": [],
   "source": [
    "# Vamos criar uma nova coluna em df_outras chamada 'status_beneficio_query', puxando o status correspondente da df_query pela chave 'chassi'\n",
    "\n",
    "# Primeiro, garantir que ambas as colunas 'chassi' estejam normalizadas (string, strip, upper)\n",
    "df_outras['chassi'] = df_outras['chassi'].astype(str).str.strip().str.upper()\n",
    "df_query['chassi'] = df_query['chassi'].astype(str).str.strip().str.upper()\n",
    "\n",
    "# Criar um dicionário de mapeamento chassi -> status_beneficio (pegando o primeiro status encontrado para cada chassi)\n",
    "status_map = df_query.drop_duplicates('chassi').set_index('chassi')['status_beneficio'].to_dict()\n",
    "\n",
    "# Adicionar a nova coluna em df_outras\n",
    "df_outras['status_beneficio_query'] = df_outras['chassi'].map(status_map)\n"
   ]
  },
  {
   "cell_type": "code",
   "execution_count": 6,
   "id": "ad3af6ca",
   "metadata": {},
   "outputs": [
    {
     "data": {
      "text/plain": [
       "77"
      ]
     },
     "execution_count": 6,
     "metadata": {},
     "output_type": "execute_result"
    }
   ],
   "source": [
    "df_outras.shape[0]"
   ]
  },
  {
   "cell_type": "code",
   "execution_count": 7,
   "id": "d3adb4b4",
   "metadata": {},
   "outputs": [
    {
     "data": {
      "text/plain": [
       "status_beneficio_query\n",
       "CANCELADO    50\n",
       "NOVO         16\n",
       "ATIVO         8\n",
       "RENOVAÇÃO     2\n",
       "Name: count, dtype: int64"
      ]
     },
     "execution_count": 7,
     "metadata": {},
     "output_type": "execute_result"
    }
   ],
   "source": [
    "df_outras['status_beneficio_query'].value_counts()\n",
    "#NOVO significa aguardando ativação"
   ]
  },
  {
   "cell_type": "code",
   "execution_count": 8,
   "id": "152df60c",
   "metadata": {},
   "outputs": [
    {
     "name": "stdout",
     "output_type": "stream",
     "text": [
      "27\n",
      "status_beneficio_query\n",
      "NOVO         16\n",
      "ATIVO         8\n",
      "RENOVAÇÃO     2\n",
      "Name: count, dtype: int64\n"
     ]
    }
   ],
   "source": [
    "df_outras_naocancelados = df_outras[df_outras['status_beneficio_query'] != \"CANCELADO\"]\n",
    "# Para ver o número de linhas:\n",
    "print(df_outras_naocancelados.shape[0])\n",
    "# Para ver os valores únicos de status_beneficio_query:\n",
    "print(df_outras_naocancelados['status_beneficio_query'].value_counts())"
   ]
  },
  {
   "cell_type": "code",
   "execution_count": 9,
   "id": "fb4f7569",
   "metadata": {},
   "outputs": [
    {
     "data": {
      "text/plain": [
       "77"
      ]
     },
     "execution_count": 9,
     "metadata": {},
     "output_type": "execute_result"
    }
   ],
   "source": [
    "df_outras.shape[0]"
   ]
  },
  {
   "cell_type": "code",
   "execution_count": 10,
   "id": "818b5ec5",
   "metadata": {},
   "outputs": [
    {
     "data": {
      "text/plain": [
       "50"
      ]
     },
     "execution_count": 10,
     "metadata": {},
     "output_type": "execute_result"
    }
   ],
   "source": [
    "df_outras[df_outras['status_beneficio_query']==\"CANCELADO\"].shape[0]"
   ]
  }
 ],
 "metadata": {
  "kernelspec": {
   "display_name": "env2",
   "language": "python",
   "name": "python3"
  },
  "language_info": {
   "codemirror_mode": {
    "name": "ipython",
    "version": 3
   },
   "file_extension": ".py",
   "mimetype": "text/x-python",
   "name": "python",
   "nbconvert_exporter": "python",
   "pygments_lexer": "ipython3",
   "version": "3.12.4"
  }
 },
 "nbformat": 4,
 "nbformat_minor": 5
}
