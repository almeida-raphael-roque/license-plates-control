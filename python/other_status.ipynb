{
 "cells": [
  {
   "cell_type": "markdown",
   "id": "27d046fe",
   "metadata": {},
   "source": [
    "# EXTRACT"
   ]
  },
  {
   "cell_type": "code",
   "execution_count": 3,
   "id": "9c7e76e5",
   "metadata": {},
   "outputs": [],
   "source": [
    "import pandas as pd\n",
    "import openpyxl\n",
    "import awswrangler as awr\n",
    "\n",
    "xlsx = r\"C:\\Users\\raphael.almeida\\OneDrive - Grupo Unus\\analise de dados - Arquivos em excel\\Relatório de Ativações Placas\\placas_desativadas.xlsx\"\n",
    "df_desativadas = pd.read_excel(xlsx, engine = 'openpyxl')\n"
   ]
  },
  {
   "cell_type": "code",
   "execution_count": 8,
   "id": "ad3af6ca",
   "metadata": {},
   "outputs": [
    {
     "data": {
      "text/plain": [
       "972"
      ]
     },
     "execution_count": 8,
     "metadata": {},
     "output_type": "execute_result"
    }
   ],
   "source": [
    "df_desativadas.drop_duplicates(subset='chassi').shape[0]"
   ]
  },
  {
   "cell_type": "code",
   "execution_count": 5,
   "id": "58a1dba2",
   "metadata": {},
   "outputs": [
    {
     "data": {
      "text/html": [
       "<div>\n",
       "<style scoped>\n",
       "    .dataframe tbody tr th:only-of-type {\n",
       "        vertical-align: middle;\n",
       "    }\n",
       "\n",
       "    .dataframe tbody tr th {\n",
       "        vertical-align: top;\n",
       "    }\n",
       "\n",
       "    .dataframe thead th {\n",
       "        text-align: right;\n",
       "    }\n",
       "</style>\n",
       "<table border=\"1\" class=\"dataframe\">\n",
       "  <thead>\n",
       "    <tr style=\"text-align: right;\">\n",
       "      <th></th>\n",
       "      <th>placa</th>\n",
       "      <th>chassi</th>\n",
       "      <th>id_placa</th>\n",
       "      <th>id_veiculo</th>\n",
       "      <th>id_carroceria</th>\n",
       "      <th>matricula</th>\n",
       "      <th>conjunto</th>\n",
       "      <th>unidade</th>\n",
       "      <th>consultor</th>\n",
       "      <th>status</th>\n",
       "      <th>...</th>\n",
       "      <th>empresa</th>\n",
       "      <th>coverage</th>\n",
       "      <th>beneficio</th>\n",
       "      <th>categoria</th>\n",
       "      <th>tipo_categoria</th>\n",
       "      <th>data_ativacao_beneficio</th>\n",
       "      <th>status_beneficio</th>\n",
       "      <th>data_atualizacao</th>\n",
       "      <th>consultor_ativo</th>\n",
       "      <th>id_beneficio</th>\n",
       "    </tr>\n",
       "  </thead>\n",
       "  <tbody>\n",
       "    <tr>\n",
       "      <th>0</th>\n",
       "      <td>CYB0A45</td>\n",
       "      <td>9BM6931272B316506</td>\n",
       "      <td>1177623</td>\n",
       "      <td>1177623</td>\n",
       "      <td>&lt;NA&gt;</td>\n",
       "      <td>3207</td>\n",
       "      <td>4251</td>\n",
       "      <td>You Safer c</td>\n",
       "      <td>Matheus Junior dos Santos</td>\n",
       "      <td>NOVO</td>\n",
       "      <td>...</td>\n",
       "      <td>Tag</td>\n",
       "      <td>725565</td>\n",
       "      <td>APP</td>\n",
       "      <td>PADRÃO</td>\n",
       "      <td>PADRÃO</td>\n",
       "      <td>2025-09-26</td>\n",
       "      <td>NOVO</td>\n",
       "      <td>2025-09-26</td>\n",
       "      <td>S</td>\n",
       "      <td>48</td>\n",
       "    </tr>\n",
       "    <tr>\n",
       "      <th>1</th>\n",
       "      <td>OGQ8G19</td>\n",
       "      <td>9AA07123GCC112805</td>\n",
       "      <td>7621</td>\n",
       "      <td>0</td>\n",
       "      <td>7621</td>\n",
       "      <td>2294</td>\n",
       "      <td>3827</td>\n",
       "      <td>UNIDADE RIO VERDE</td>\n",
       "      <td>Gabriel Soares</td>\n",
       "      <td>ATIVO</td>\n",
       "      <td>...</td>\n",
       "      <td>Tag</td>\n",
       "      <td>717011</td>\n",
       "      <td>Casco PT (R/SR)</td>\n",
       "      <td>GRANELEIRO</td>\n",
       "      <td>PADRÃO</td>\n",
       "      <td>2025-09-22</td>\n",
       "      <td>ATIVO</td>\n",
       "      <td>2025-09-22</td>\n",
       "      <td>S</td>\n",
       "      <td>35</td>\n",
       "    </tr>\n",
       "    <tr>\n",
       "      <th>2</th>\n",
       "      <td>OGS7I58</td>\n",
       "      <td>9BVAG20D1CE787691</td>\n",
       "      <td>939972</td>\n",
       "      <td>939972</td>\n",
       "      <td>&lt;NA&gt;</td>\n",
       "      <td>2294</td>\n",
       "      <td>3827</td>\n",
       "      <td>UNIDADE RIO VERDE</td>\n",
       "      <td>Gabriel Soares</td>\n",
       "      <td>ATIVO</td>\n",
       "      <td>...</td>\n",
       "      <td>Tag</td>\n",
       "      <td>717008</td>\n",
       "      <td>Assistência 24 Horas</td>\n",
       "      <td>PESADOS - CAVALO MECÂNICO</td>\n",
       "      <td>ATÉ 15 ANOS</td>\n",
       "      <td>2025-09-22</td>\n",
       "      <td>ATIVO</td>\n",
       "      <td>2025-09-22</td>\n",
       "      <td>S</td>\n",
       "      <td>41</td>\n",
       "    </tr>\n",
       "    <tr>\n",
       "      <th>3</th>\n",
       "      <td>SCY8F77</td>\n",
       "      <td>94BL0572PRV007818</td>\n",
       "      <td>6039</td>\n",
       "      <td>0</td>\n",
       "      <td>6039</td>\n",
       "      <td>2294</td>\n",
       "      <td>2853</td>\n",
       "      <td>UNIDADE RIO VERDE</td>\n",
       "      <td>Luiz Andre Senna Muniz Barreto Junior</td>\n",
       "      <td>ATIVO</td>\n",
       "      <td>...</td>\n",
       "      <td>Tag</td>\n",
       "      <td>708027</td>\n",
       "      <td>Assistência a Reparos (R/SR)</td>\n",
       "      <td>GRANELEIRO</td>\n",
       "      <td>PADRÃO - 4%</td>\n",
       "      <td>2025-09-08</td>\n",
       "      <td>ATIVO</td>\n",
       "      <td>2025-09-08</td>\n",
       "      <td>S</td>\n",
       "      <td>38</td>\n",
       "    </tr>\n",
       "    <tr>\n",
       "      <th>4</th>\n",
       "      <td>SCY8F37</td>\n",
       "      <td>94BA0952PRV007817</td>\n",
       "      <td>6040</td>\n",
       "      <td>0</td>\n",
       "      <td>6040</td>\n",
       "      <td>2294</td>\n",
       "      <td>2853</td>\n",
       "      <td>UNIDADE RIO VERDE</td>\n",
       "      <td>Luiz Andre Senna Muniz Barreto Junior</td>\n",
       "      <td>ATIVO</td>\n",
       "      <td>...</td>\n",
       "      <td>Tag</td>\n",
       "      <td>708026</td>\n",
       "      <td>Casco PT (R/SR)</td>\n",
       "      <td>GRANELEIRO</td>\n",
       "      <td>PADRÃO</td>\n",
       "      <td>2025-09-08</td>\n",
       "      <td>ATIVO</td>\n",
       "      <td>2025-09-08</td>\n",
       "      <td>S</td>\n",
       "      <td>35</td>\n",
       "    </tr>\n",
       "  </tbody>\n",
       "</table>\n",
       "<p>5 rows × 25 columns</p>\n",
       "</div>"
      ],
      "text/plain": [
       "     placa             chassi  id_placa  id_veiculo  id_carroceria  matricula  \\\n",
       "0  CYB0A45  9BM6931272B316506   1177623     1177623           <NA>       3207   \n",
       "1  OGQ8G19  9AA07123GCC112805      7621           0           7621       2294   \n",
       "2  OGS7I58  9BVAG20D1CE787691    939972      939972           <NA>       2294   \n",
       "3  SCY8F77  94BL0572PRV007818      6039           0           6039       2294   \n",
       "4  SCY8F37  94BA0952PRV007817      6040           0           6040       2294   \n",
       "\n",
       "   conjunto            unidade                              consultor status  \\\n",
       "0      4251        You Safer c              Matheus Junior dos Santos   NOVO   \n",
       "1      3827  UNIDADE RIO VERDE                         Gabriel Soares  ATIVO   \n",
       "2      3827  UNIDADE RIO VERDE                         Gabriel Soares  ATIVO   \n",
       "3      2853  UNIDADE RIO VERDE  Luiz Andre Senna Muniz Barreto Junior  ATIVO   \n",
       "4      2853  UNIDADE RIO VERDE  Luiz Andre Senna Muniz Barreto Junior  ATIVO   \n",
       "\n",
       "   ... empresa coverage                     beneficio  \\\n",
       "0  ...     Tag   725565                           APP   \n",
       "1  ...     Tag   717011               Casco PT (R/SR)   \n",
       "2  ...     Tag   717008          Assistência 24 Horas   \n",
       "3  ...     Tag   708027  Assistência a Reparos (R/SR)   \n",
       "4  ...     Tag   708026               Casco PT (R/SR)   \n",
       "\n",
       "                   categoria tipo_categoria data_ativacao_beneficio  \\\n",
       "0                     PADRÃO         PADRÃO              2025-09-26   \n",
       "1                 GRANELEIRO         PADRÃO              2025-09-22   \n",
       "2  PESADOS - CAVALO MECÂNICO    ATÉ 15 ANOS              2025-09-22   \n",
       "3                 GRANELEIRO    PADRÃO - 4%              2025-09-08   \n",
       "4                 GRANELEIRO         PADRÃO              2025-09-08   \n",
       "\n",
       "   status_beneficio data_atualizacao consultor_ativo id_beneficio  \n",
       "0              NOVO       2025-09-26               S           48  \n",
       "1             ATIVO       2025-09-22               S           35  \n",
       "2             ATIVO       2025-09-22               S           41  \n",
       "3             ATIVO       2025-09-08               S           38  \n",
       "4             ATIVO       2025-09-08               S           35  \n",
       "\n",
       "[5 rows x 25 columns]"
      ]
     },
     "execution_count": 5,
     "metadata": {},
     "output_type": "execute_result"
    }
   ],
   "source": [
    "query_path = r\"C:\\Users\\raphael.almeida\\Documents\\Processos\\placas_movimentacoes\\sql\\others_query.sql\"\n",
    "with open(query_path, \"r\") as file:\n",
    "    query = file.read()\n",
    "\n",
    "df_conferencia = awr.athena.read_sql_query(query, database='silver')\n",
    "df_conferencia.head()  "
   ]
  },
  {
   "cell_type": "code",
   "execution_count": 12,
   "id": "493c3f83",
   "metadata": {},
   "outputs": [],
   "source": [
    "df_conferencia_sorted = df_conferencia.sort_values(by='data_ativacao', ascending=False)\n",
    "df_conferencia_sorted.drop_duplicates(subset='chassi', keep='first', inplace=True)"
   ]
  },
  {
   "cell_type": "code",
   "execution_count": 15,
   "id": "e5b8e54c",
   "metadata": {},
   "outputs": [],
   "source": [
    "df_conferencia_sorted.drop_duplicates(subset='chassi', inplace=True)"
   ]
  },
  {
   "cell_type": "code",
   "execution_count": 16,
   "id": "69e3b271",
   "metadata": {},
   "outputs": [
    {
     "data": {
      "text/plain": [
       "108385"
      ]
     },
     "execution_count": 16,
     "metadata": {},
     "output_type": "execute_result"
    }
   ],
   "source": [
    "df_conferencia_sorted.shape[0]"
   ]
  },
  {
   "cell_type": "code",
   "execution_count": 17,
   "id": "86af80cc",
   "metadata": {},
   "outputs": [
    {
     "data": {
      "text/plain": [
       "Index(['placa', 'chassi', 'id_placa', 'id_veiculo', 'id_carroceria',\n",
       "       'matricula', 'conjunto', 'unidade', 'consultor', 'status', 'cliente',\n",
       "       'data_registro', 'data_ativacao', 'suporte', 'data_filtro', 'empresa',\n",
       "       'coverage', 'beneficio', 'categoria', 'tipo_categoria',\n",
       "       'data_ativacao_beneficio', 'status_beneficio', 'data_atualizacao',\n",
       "       'consultor_ativo', 'id_beneficio'],\n",
       "      dtype='object')"
      ]
     },
     "execution_count": 17,
     "metadata": {},
     "output_type": "execute_result"
    }
   ],
   "source": [
    "df_conferencia_sorted.columns"
   ]
  },
  {
   "cell_type": "code",
   "execution_count": 18,
   "id": "8465d7aa",
   "metadata": {},
   "outputs": [],
   "source": [
    "\n",
    "df_desativadas_status = df_desativadas.merge(\n",
    "    df_conferencia_sorted[['chassi', 'status_beneficio']],\n",
    "    on='chassi',\n",
    "    how='left'\n",
    ")\n"
   ]
  },
  {
   "cell_type": "code",
   "execution_count": 19,
   "id": "66dce19b",
   "metadata": {},
   "outputs": [
    {
     "data": {
      "text/plain": [
       "972"
      ]
     },
     "execution_count": 19,
     "metadata": {},
     "output_type": "execute_result"
    }
   ],
   "source": [
    "df_desativadas_status.shape[0]"
   ]
  },
  {
   "cell_type": "code",
   "execution_count": 22,
   "id": "083127f4",
   "metadata": {},
   "outputs": [
    {
     "data": {
      "text/plain": [
       "Index(['placa', 'chassi', 'id_placa', 'id_veiculo', 'id_carroceria',\n",
       "       'matricula', 'conjunto', 'unidade', 'consultor', 'status_beneficio_x',\n",
       "       'cliente', 'data_registro', 'data_ativacao', 'data_ativacao_beneficio',\n",
       "       'suporte', 'data_filtro', 'empresa', 'migration_from',\n",
       "       'status_beneficio_y'],\n",
       "      dtype='object')"
      ]
     },
     "execution_count": 22,
     "metadata": {},
     "output_type": "execute_result"
    }
   ],
   "source": [
    "df_desativadas_status.columns"
   ]
  },
  {
   "cell_type": "code",
   "execution_count": 23,
   "id": "910c27bb",
   "metadata": {},
   "outputs": [
    {
     "data": {
      "text/plain": [
       "status_beneficio_y\n",
       "ATIVO          806\n",
       "CANCELADO      145\n",
       "NOVO            19\n",
       "<NA>             1\n",
       "SUBSTITUÍDO      1\n",
       "Name: count, dtype: Int64"
      ]
     },
     "execution_count": 23,
     "metadata": {},
     "output_type": "execute_result"
    }
   ],
   "source": [
    "df_desativadas_status['status_beneficio_y'].value_counts(dropna=False)"
   ]
  }
 ],
 "metadata": {
  "kernelspec": {
   "display_name": "env2",
   "language": "python",
   "name": "python3"
  },
  "language_info": {
   "codemirror_mode": {
    "name": "ipython",
    "version": 3
   },
   "file_extension": ".py",
   "mimetype": "text/x-python",
   "name": "python",
   "nbconvert_exporter": "python",
   "pygments_lexer": "ipython3",
   "version": "3.12.4"
  }
 },
 "nbformat": 4,
 "nbformat_minor": 5
}
