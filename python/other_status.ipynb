{
 "cells": [
  {
   "cell_type": "code",
   "execution_count": 1,
   "id": "9c7e76e5",
   "metadata": {},
   "outputs": [],
   "source": [
    "import pandas as pd\n",
    "import openpyxl\n",
    "import awswrangler as awr\n",
    "\n",
    "xlsx = r\"C:\\Users\\raphael.almeida\\OneDrive - Grupo Unus\\analise de dados - Arquivos em excel\\Relatório de Ativações Placas\\placas_desativadas.xlsx\"\n",
    "df_outras = pd.read_excel(xlsx, engine = 'openpyxl')\n"
   ]
  },
  {
   "cell_type": "code",
   "execution_count": null,
   "id": "fda1bff9",
   "metadata": {},
   "outputs": [
    {
     "data": {
      "text/plain": [
       "140"
      ]
     },
     "execution_count": 7,
     "metadata": {},
     "output_type": "execute_result"
    }
   ],
   "source": [
    "df_outras.shape[0]"
   ]
  },
  {
   "cell_type": "code",
   "execution_count": 2,
   "id": "58a1dba2",
   "metadata": {},
   "outputs": [
    {
     "data": {
      "text/html": [
       "<div>\n",
       "<style scoped>\n",
       "    .dataframe tbody tr th:only-of-type {\n",
       "        vertical-align: middle;\n",
       "    }\n",
       "\n",
       "    .dataframe tbody tr th {\n",
       "        vertical-align: top;\n",
       "    }\n",
       "\n",
       "    .dataframe thead th {\n",
       "        text-align: right;\n",
       "    }\n",
       "</style>\n",
       "<table border=\"1\" class=\"dataframe\">\n",
       "  <thead>\n",
       "    <tr style=\"text-align: right;\">\n",
       "      <th></th>\n",
       "      <th>placa</th>\n",
       "      <th>chassi</th>\n",
       "      <th>id_placa</th>\n",
       "      <th>id_veiculo</th>\n",
       "      <th>id_carroceria</th>\n",
       "      <th>matricula</th>\n",
       "      <th>conjunto</th>\n",
       "      <th>unidade</th>\n",
       "      <th>consultor</th>\n",
       "      <th>status</th>\n",
       "      <th>...</th>\n",
       "      <th>empresa</th>\n",
       "      <th>coverage</th>\n",
       "      <th>beneficio</th>\n",
       "      <th>categoria</th>\n",
       "      <th>tipo_categoria</th>\n",
       "      <th>data_ativacao_beneficio</th>\n",
       "      <th>status_beneficio</th>\n",
       "      <th>data_atualizacao</th>\n",
       "      <th>consultor_ativo</th>\n",
       "      <th>id_beneficio</th>\n",
       "    </tr>\n",
       "  </thead>\n",
       "  <tbody>\n",
       "    <tr>\n",
       "      <th>0</th>\n",
       "      <td>MKO9E68</td>\n",
       "      <td>9BM958443CB885167</td>\n",
       "      <td>244448</td>\n",
       "      <td>244448</td>\n",
       "      <td>&lt;NA&gt;</td>\n",
       "      <td>1223</td>\n",
       "      <td>1437</td>\n",
       "      <td>MICRO B - T.V PASQUINI SERVICOS ADMINISTRATIVO...</td>\n",
       "      <td>MF - TIAGO PASQUINI</td>\n",
       "      <td>ATIVO</td>\n",
       "      <td>...</td>\n",
       "      <td>Tag</td>\n",
       "      <td>694521</td>\n",
       "      <td>Assistência 24 Horas</td>\n",
       "      <td>PESADOS - CAVALO MECÂNICO</td>\n",
       "      <td>ATÉ 15 ANOS</td>\n",
       "      <td>2025-08-21</td>\n",
       "      <td>ATIVO</td>\n",
       "      <td>2025-08-21</td>\n",
       "      <td>S</td>\n",
       "      <td>41</td>\n",
       "    </tr>\n",
       "    <tr>\n",
       "      <th>1</th>\n",
       "      <td>MKO9E68</td>\n",
       "      <td>9BM958443CB885167</td>\n",
       "      <td>244448</td>\n",
       "      <td>244448</td>\n",
       "      <td>&lt;NA&gt;</td>\n",
       "      <td>1223</td>\n",
       "      <td>1437</td>\n",
       "      <td>MICRO B - T.V PASQUINI SERVICOS ADMINISTRATIVO...</td>\n",
       "      <td>MF - TIAGO PASQUINI</td>\n",
       "      <td>ATIVO</td>\n",
       "      <td>...</td>\n",
       "      <td>Tag</td>\n",
       "      <td>694518</td>\n",
       "      <td>Casco PT (VEÍCULO)</td>\n",
       "      <td>PESADOS - CAVALO MECÂNICO</td>\n",
       "      <td>MERCEDES</td>\n",
       "      <td>2025-08-21</td>\n",
       "      <td>ATIVO</td>\n",
       "      <td>2025-08-21</td>\n",
       "      <td>S</td>\n",
       "      <td>34</td>\n",
       "    </tr>\n",
       "    <tr>\n",
       "      <th>2</th>\n",
       "      <td>OUU9F31</td>\n",
       "      <td>93ZC70C01E8453685</td>\n",
       "      <td>240725</td>\n",
       "      <td>240725</td>\n",
       "      <td>&lt;NA&gt;</td>\n",
       "      <td>1224</td>\n",
       "      <td>1438</td>\n",
       "      <td>FRANQUEADO - R M DE OLIVEIRA CORRETORES</td>\n",
       "      <td>FRANQUEADO R M DE OLIVEIRA</td>\n",
       "      <td>DESISTÊNCIA</td>\n",
       "      <td>...</td>\n",
       "      <td>Tag</td>\n",
       "      <td>694529</td>\n",
       "      <td>Assistência a Reparos (VEÍCULO)</td>\n",
       "      <td>PESADOS - CAMINHÃO</td>\n",
       "      <td>PADRÃO - 4%</td>\n",
       "      <td>2025-08-20</td>\n",
       "      <td>NOVO</td>\n",
       "      <td>2025-08-22</td>\n",
       "      <td>S</td>\n",
       "      <td>37</td>\n",
       "    </tr>\n",
       "    <tr>\n",
       "      <th>3</th>\n",
       "      <td>MKP9E19</td>\n",
       "      <td>3GNAL7EC1BS687984</td>\n",
       "      <td>93990</td>\n",
       "      <td>93990</td>\n",
       "      <td>&lt;NA&gt;</td>\n",
       "      <td>1225</td>\n",
       "      <td>1439</td>\n",
       "      <td>UNIDADE GUARAPUAVA</td>\n",
       "      <td>Izidoro Svarcz</td>\n",
       "      <td>ATIVO</td>\n",
       "      <td>...</td>\n",
       "      <td>Tag</td>\n",
       "      <td>694541</td>\n",
       "      <td>Assistência a Vidros</td>\n",
       "      <td>LEVES - ECONOMICO</td>\n",
       "      <td>DE 1980 ATÉ 2019</td>\n",
       "      <td>2025-08-26</td>\n",
       "      <td>ATIVO</td>\n",
       "      <td>2025-08-26</td>\n",
       "      <td>S</td>\n",
       "      <td>42</td>\n",
       "    </tr>\n",
       "    <tr>\n",
       "      <th>4</th>\n",
       "      <td>MKP9E19</td>\n",
       "      <td>3GNAL7EC1BS687984</td>\n",
       "      <td>93990</td>\n",
       "      <td>93990</td>\n",
       "      <td>&lt;NA&gt;</td>\n",
       "      <td>1225</td>\n",
       "      <td>1439</td>\n",
       "      <td>UNIDADE GUARAPUAVA</td>\n",
       "      <td>Izidoro Svarcz</td>\n",
       "      <td>ATIVO</td>\n",
       "      <td>...</td>\n",
       "      <td>Tag</td>\n",
       "      <td>694538</td>\n",
       "      <td>RCF</td>\n",
       "      <td>LEVES - ECONOMICO</td>\n",
       "      <td>PADRÃO</td>\n",
       "      <td>2025-08-26</td>\n",
       "      <td>ATIVO</td>\n",
       "      <td>2025-08-26</td>\n",
       "      <td>S</td>\n",
       "      <td>40</td>\n",
       "    </tr>\n",
       "  </tbody>\n",
       "</table>\n",
       "<p>5 rows × 25 columns</p>\n",
       "</div>"
      ],
      "text/plain": [
       "     placa             chassi  id_placa  id_veiculo  id_carroceria  matricula  \\\n",
       "0  MKO9E68  9BM958443CB885167    244448      244448           <NA>       1223   \n",
       "1  MKO9E68  9BM958443CB885167    244448      244448           <NA>       1223   \n",
       "2  OUU9F31  93ZC70C01E8453685    240725      240725           <NA>       1224   \n",
       "3  MKP9E19  3GNAL7EC1BS687984     93990       93990           <NA>       1225   \n",
       "4  MKP9E19  3GNAL7EC1BS687984     93990       93990           <NA>       1225   \n",
       "\n",
       "   conjunto                                            unidade  \\\n",
       "0      1437  MICRO B - T.V PASQUINI SERVICOS ADMINISTRATIVO...   \n",
       "1      1437  MICRO B - T.V PASQUINI SERVICOS ADMINISTRATIVO...   \n",
       "2      1438            FRANQUEADO - R M DE OLIVEIRA CORRETORES   \n",
       "3      1439                                 UNIDADE GUARAPUAVA   \n",
       "4      1439                                 UNIDADE GUARAPUAVA   \n",
       "\n",
       "                    consultor       status  ... empresa coverage  \\\n",
       "0         MF - TIAGO PASQUINI        ATIVO  ...     Tag   694521   \n",
       "1         MF - TIAGO PASQUINI        ATIVO  ...     Tag   694518   \n",
       "2  FRANQUEADO R M DE OLIVEIRA  DESISTÊNCIA  ...     Tag   694529   \n",
       "3              Izidoro Svarcz        ATIVO  ...     Tag   694541   \n",
       "4              Izidoro Svarcz        ATIVO  ...     Tag   694538   \n",
       "\n",
       "                         beneficio                  categoria  \\\n",
       "0             Assistência 24 Horas  PESADOS - CAVALO MECÂNICO   \n",
       "1               Casco PT (VEÍCULO)  PESADOS - CAVALO MECÂNICO   \n",
       "2  Assistência a Reparos (VEÍCULO)         PESADOS - CAMINHÃO   \n",
       "3             Assistência a Vidros          LEVES - ECONOMICO   \n",
       "4                              RCF          LEVES - ECONOMICO   \n",
       "\n",
       "     tipo_categoria data_ativacao_beneficio  status_beneficio  \\\n",
       "0       ATÉ 15 ANOS              2025-08-21             ATIVO   \n",
       "1          MERCEDES              2025-08-21             ATIVO   \n",
       "2       PADRÃO - 4%              2025-08-20              NOVO   \n",
       "3  DE 1980 ATÉ 2019              2025-08-26             ATIVO   \n",
       "4            PADRÃO              2025-08-26             ATIVO   \n",
       "\n",
       "  data_atualizacao consultor_ativo id_beneficio  \n",
       "0       2025-08-21               S           41  \n",
       "1       2025-08-21               S           34  \n",
       "2       2025-08-22               S           37  \n",
       "3       2025-08-26               S           42  \n",
       "4       2025-08-26               S           40  \n",
       "\n",
       "[5 rows x 25 columns]"
      ]
     },
     "execution_count": 2,
     "metadata": {},
     "output_type": "execute_result"
    }
   ],
   "source": [
    "query_path = r\"C:\\Users\\raphael.almeida\\Documents\\Processos\\placas_movimentacoes\\sql\\others_query.sql\"\n",
    "with open(query_path, \"r\") as file:\n",
    "    query = file.read()\n",
    "\n",
    "df_query = awr.athena.read_sql_query(query, database='silver')\n",
    "df_query.head()  "
   ]
  },
  {
   "cell_type": "code",
   "execution_count": 3,
   "id": "386d0629",
   "metadata": {},
   "outputs": [],
   "source": [
    "# Vamos criar uma nova coluna em df_outras chamada 'status_beneficio_query', puxando o status correspondente da df_query pela chave 'chassi'\n",
    "\n",
    "# Primeiro, garantir que ambas as colunas 'chassi' estejam normalizadas (string, strip, upper)\n",
    "df_outras['chassi'] = df_outras['chassi'].astype(str).str.strip().str.upper()\n",
    "df_query['chassi'] = df_query['chassi'].astype(str).str.strip().str.upper()\n",
    "\n",
    "# Criar um dicionário de mapeamento chassi -> status_beneficio (pegando o primeiro status encontrado para cada chassi)\n",
    "status_map = df_query.drop_duplicates('chassi').set_index('chassi')['status_beneficio'].to_dict()\n",
    "\n",
    "# Adicionar a nova coluna em df_outras\n",
    "df_outras['status_beneficio_query'] = df_outras['chassi'].map(status_map)\n"
   ]
  },
  {
   "cell_type": "code",
   "execution_count": 8,
   "id": "ad3af6ca",
   "metadata": {},
   "outputs": [
    {
     "data": {
      "text/plain": [
       "140"
      ]
     },
     "execution_count": 8,
     "metadata": {},
     "output_type": "execute_result"
    }
   ],
   "source": [
    "df_outras.shape[0]"
   ]
  },
  {
   "cell_type": "code",
   "execution_count": null,
   "id": "d3adb4b4",
   "metadata": {},
   "outputs": [
    {
     "data": {
      "text/plain": [
       "status_beneficio_query\n",
       "CANCELADO      56\n",
       "NOVO           52\n",
       "ATIVO          20\n",
       "SUBSTITUÍDO     9\n",
       "RENOVAÇÃO       1\n",
       "Name: count, dtype: int64"
      ]
     },
     "execution_count": 10,
     "metadata": {},
     "output_type": "execute_result"
    }
   ],
   "source": [
    "df_outras['status_beneficio_query'].value_counts()\n",
    "#NOVO significa aguardando ativação"
   ]
  },
  {
   "cell_type": "code",
   "execution_count": 4,
   "id": "152df60c",
   "metadata": {},
   "outputs": [
    {
     "name": "stdout",
     "output_type": "stream",
     "text": [
      "84\n",
      "status_beneficio_query\n",
      "NOVO           52\n",
      "ATIVO          20\n",
      "SUBSTITUÍDO     9\n",
      "RENOVAÇÃO       1\n",
      "Name: count, dtype: int64\n"
     ]
    }
   ],
   "source": [
    "df_outras_naocancelados = df_outras[df_outras['status_beneficio_query'] != \"CANCELADO\"]\n",
    "# Para ver o número de linhas:\n",
    "print(df_outras_naocancelados.shape[0])\n",
    "# Para ver os valores únicos de status_beneficio_query:\n",
    "print(df_outras_naocancelados['status_beneficio_query'].value_counts())"
   ]
  },
  {
   "cell_type": "code",
   "execution_count": 5,
   "id": "fb4f7569",
   "metadata": {},
   "outputs": [
    {
     "data": {
      "text/plain": [
       "140"
      ]
     },
     "execution_count": 5,
     "metadata": {},
     "output_type": "execute_result"
    }
   ],
   "source": [
    "df_outras.shape[0]"
   ]
  },
  {
   "cell_type": "code",
   "execution_count": 6,
   "id": "818b5ec5",
   "metadata": {},
   "outputs": [
    {
     "data": {
      "text/plain": [
       "56"
      ]
     },
     "execution_count": 6,
     "metadata": {},
     "output_type": "execute_result"
    }
   ],
   "source": [
    "df_outras[df_outras['status_beneficio_query']==\"CANCELADO\"].shape[0]"
   ]
  }
 ],
 "metadata": {
  "kernelspec": {
   "display_name": "env2",
   "language": "python",
   "name": "python3"
  },
  "language_info": {
   "codemirror_mode": {
    "name": "ipython",
    "version": 3
   },
   "file_extension": ".py",
   "mimetype": "text/x-python",
   "name": "python",
   "nbconvert_exporter": "python",
   "pygments_lexer": "ipython3",
   "version": "3.12.4"
  }
 },
 "nbformat": 4,
 "nbformat_minor": 5
}
