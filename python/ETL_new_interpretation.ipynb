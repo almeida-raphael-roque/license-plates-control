{
 "cells": [
  {
   "cell_type": "markdown",
   "id": "eeb43875",
   "metadata": {},
   "source": [
    "# EXTRACT"
   ]
  },
  {
   "cell_type": "markdown",
   "id": "67db5c11",
   "metadata": {},
   "source": [
    "## setting variables"
   ]
  },
  {
   "cell_type": "code",
   "execution_count": 1,
   "id": "3cccde04",
   "metadata": {},
   "outputs": [],
   "source": [
    "\n",
    "import pandas as pd\n",
    "import numpy as np\n",
    "import datetime as dt\n",
    "import logging\n",
    "import os\n",
    "import awswrangler as awr"
   ]
  },
  {
   "cell_type": "code",
   "execution_count": 2,
   "id": "ae99f132",
   "metadata": {},
   "outputs": [],
   "source": [
    "df_analise = None\n",
    "df_anterior = None\n",
    "df_conferencia = None\n",
    "df_cancelamentos = None\n",
    "today = pd.Timestamp.today().date()\n",
    "\n",
    "if today.weekday() == 0:\n",
    "    yesterday = today - pd.Timedelta(days=3)\n",
    "else:\n",
    "    yesterday = today - pd.Timedelta(days=1)\n",
    "\n",
    "if today.weekday() == 0:\n",
    "    dbf_yesterday = today - pd.Timedelta(days=4)\n",
    "else:\n",
    "    dbf_yesterday = today - pd.Timedelta(days=2)"
   ]
  },
  {
   "cell_type": "markdown",
   "id": "55494b8d",
   "metadata": {},
   "source": [
    "## extracting"
   ]
  },
  {
   "cell_type": "code",
   "execution_count": 3,
   "id": "bb40321c",
   "metadata": {},
   "outputs": [],
   "source": [
    "xlsx_anterior = rf\"C:\\Users\\raphael.almeida\\Documents\\Processos\\placas_movimentacoes\\bkp_activation\\placas_movimentacoes_{yesterday}.xlsx\"\n",
    "xlsx_analise = rf\"C:\\Users\\raphael.almeida\\Documents\\Processos\\placas_movimentacoes\\bkp_activation\\placas_movimentacoes_{today}.xlsx\"\n",
    "\n",
    "df_anterior = pd.read_excel(xlsx_anterior, engine='openpyxl', sheet_name='ATIVAÇÕES')\n",
    "df_analise = pd.read_excel(xlsx_analise, engine='openpyxl', sheet_name='ATIVAÇÕES')\n",
    "\n",
    "\n"
   ]
  },
  {
   "cell_type": "code",
   "execution_count": 4,
   "id": "fea7b4de",
   "metadata": {},
   "outputs": [],
   "source": [
    "set_analise = set(df_analise['chassi'])\n",
    "set_anterior = set(df_anterior['chassi'])\n",
    "\n",
    "novos_mask = ~df_analise['chassi'].isin(set_anterior)\n",
    "\n",
    "desativados_mask = ~df_anterior['chassi'].isin(set_analise)"
   ]
  },
  {
   "cell_type": "code",
   "execution_count": 5,
   "id": "bec262f4",
   "metadata": {},
   "outputs": [
    {
     "name": "stdout",
     "output_type": "stream",
     "text": [
      "Shape de df_anterior: (33374, 18)\n",
      "Shape de df_analise: (33381, 18)\n",
      "Quantidade de novos: 91\n",
      "Quantidade de desativados: 84\n"
     ]
    }
   ],
   "source": [
    "print(f\"Shape de df_anterior: {df_anterior.shape}\")\n",
    "print(f\"Shape de df_analise: {df_analise.shape}\")\n",
    "print(f\"Quantidade de novos: {novos_mask.sum()}\")\n",
    "print(f\"Quantidade de desativados: {desativados_mask.sum()}\")\n"
   ]
  },
  {
   "cell_type": "code",
   "execution_count": 6,
   "id": "7f1d6d26",
   "metadata": {},
   "outputs": [
    {
     "data": {
      "text/plain": [
       "status_beneficio\n",
       "ATIVO        33274\n",
       "NOVO            91\n",
       "RENOVAÇÃO        9\n",
       "MIGRAÇÃO         7\n",
       "Name: count, dtype: int64"
      ]
     },
     "execution_count": 6,
     "metadata": {},
     "output_type": "execute_result"
    }
   ],
   "source": [
    "\n",
    "df_analise.loc[novos_mask, 'status_beneficio'] = 'NOVO'\n",
    "df_analise['status_beneficio'].value_counts()\n",
    "\n"
   ]
  },
  {
   "cell_type": "markdown",
   "id": "de2a248c",
   "metadata": {},
   "source": [
    "interpretação de cancelamentos: como tem 'CANCELADO', 'CANCELADA', 'FINALIZADO', 'FINALIZADA', 'NAO RENOVADO' entre outros status que são suspensivos, a intepretação de cancelamentos pode ser mais ampla do que apenas CANCELADO, dito isso CANCELAMENTOS AQUI SE ENTENDE COMO TODAS AS PLACAS QUE NÃO ESTÃO ATIVAS MAIS, PARA QUE SEJA REFORÇADA A COMPREENSÃO VOLTADA PARA PLACAS QUE ESTÃO EFETIVAMENTE ATIVAS, OU NÃO\n",
    "\n",
    "conclusão: o melhor seria denominá-las de desativadas, e para fins de não atrapalhar uma compreensão já consolidada, no resumo final pode-se referir a elas como \"canceladas\" "
   ]
  },
  {
   "cell_type": "code",
   "execution_count": 7,
   "id": "971dac2d",
   "metadata": {},
   "outputs": [
    {
     "data": {
      "text/plain": [
       "84"
      ]
     },
     "execution_count": 7,
     "metadata": {},
     "output_type": "execute_result"
    }
   ],
   "source": [
    "df_desativadas = df_anterior.loc[desativados_mask]\n",
    "df_desativadas.shape[0]\n"
   ]
  },
  {
   "cell_type": "markdown",
   "id": "9fceb487",
   "metadata": {},
   "source": [
    "# LOAD"
   ]
  },
  {
   "cell_type": "code",
   "execution_count": 10,
   "id": "3932948b",
   "metadata": {},
   "outputs": [],
   "source": [
    "xlsx_analise = rf\"C:\\Users\\raphael.almeida\\OneDrive - Grupo Unus\\analise de dados - Arquivos em excel\\Relatório de Ativações Placas\\placas_movimentacoes_{today}.xlsx\"\n",
    "df_analise.to_excel(xlsx_analise, engine='openpyxl', index=False)\n",
    "path_desativadas = r\"C:\\Users\\raphael.almeida\\OneDrive - Grupo Unus\\analise de dados - Arquivos em excel\\Relatório de Ativações Placas\\placas_desativadas.xlsx\"\n",
    "df_desativadas.to_excel(path_desativadas, engine='openpyxl', index=False)"
   ]
  }
 ],
 "metadata": {
  "kernelspec": {
   "display_name": "env2",
   "language": "python",
   "name": "python3"
  },
  "language_info": {
   "codemirror_mode": {
    "name": "ipython",
    "version": 3
   },
   "file_extension": ".py",
   "mimetype": "text/x-python",
   "name": "python",
   "nbconvert_exporter": "python",
   "pygments_lexer": "ipython3",
   "version": "3.12.4"
  }
 },
 "nbformat": 4,
 "nbformat_minor": 5
}
