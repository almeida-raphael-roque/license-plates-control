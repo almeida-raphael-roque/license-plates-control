{
 "cells": [
  {
   "cell_type": "markdown",
   "id": "eeb43875",
   "metadata": {},
   "source": [
    "# EXTRACT"
   ]
  },
  {
   "cell_type": "markdown",
   "id": "67db5c11",
   "metadata": {},
   "source": [
    "## setting variables"
   ]
  },
  {
   "cell_type": "code",
   "execution_count": 1,
   "id": "3cccde04",
   "metadata": {},
   "outputs": [],
   "source": [
    "\n",
    "import pandas as pd\n",
    "import numpy as np\n",
    "import datetime as dt\n",
    "import logging\n",
    "import os\n",
    "import awswrangler as awr"
   ]
  },
  {
   "cell_type": "code",
   "execution_count": 2,
   "id": "ae99f132",
   "metadata": {},
   "outputs": [],
   "source": [
    "\n",
    "today = pd.Timestamp.today().date()\n",
    "\n",
    "if today.weekday() == 0:\n",
    "    yesterday = today - pd.Timedelta(days=3)\n",
    "else:\n",
    "    yesterday = today - pd.Timedelta(days=1)\n",
    "\n",
    "if today.weekday() == 0:\n",
    "    dbf_yesterday = today - pd.Timedelta(days=4)\n",
    "else:\n",
    "    dbf_yesterday = today - pd.Timedelta(days=2)"
   ]
  },
  {
   "cell_type": "markdown",
   "id": "55494b8d",
   "metadata": {},
   "source": [
    "## extracting"
   ]
  },
  {
   "cell_type": "code",
   "execution_count": 3,
   "id": "bb40321c",
   "metadata": {},
   "outputs": [],
   "source": [
    "xlsx_anterior = rf\"C:\\Users\\raphael.almeida\\OneDrive - Grupo Unus\\analise de dados - Arquivos em excel\\Relatório de Ativações Placas\\placas_movimentacoes_{yesterday}.xlsx\"\n",
    "xlsx_analise = rf\"C:\\Users\\raphael.almeida\\OneDrive - Grupo Unus\\analise de dados - Arquivos em excel\\Relatório de Ativações Placas\\placas_movimentacoes_{today}.xlsx\"\n",
    "\n",
    "df_anterior = pd.read_excel(xlsx_anterior, engine='openpyxl')\n",
    "df_analise = pd.read_excel(xlsx_analise, engine='openpyxl')\n",
    "\n",
    "\n"
   ]
  },
  {
   "cell_type": "code",
   "execution_count": 4,
   "id": "76fea422",
   "metadata": {},
   "outputs": [
    {
     "name": "stdout",
     "output_type": "stream",
     "text": [
      "Quantidade de novos: 57\n"
     ]
    }
   ],
   "source": [
    "set_anterior = set(df_anterior)\n",
    "novos_mask = ~df_analise['chassi'].isin(set(df_anterior['chassi']))\n",
    "print(f\"Quantidade de novos: {novos_mask.sum()}\")"
   ]
  },
  {
   "cell_type": "code",
   "execution_count": 5,
   "id": "fea7b4de",
   "metadata": {},
   "outputs": [],
   "source": [
    "set_analise = set(df_analise['chassi'])\n",
    "desativados_mask = ~df_anterior['chassi'].isin(set_analise)"
   ]
  },
  {
   "cell_type": "code",
   "execution_count": 6,
   "id": "bec262f4",
   "metadata": {},
   "outputs": [
    {
     "name": "stdout",
     "output_type": "stream",
     "text": [
      "Shape de df_analise: (32281, 18)\n",
      "Quantidade de desativados: 1098\n"
     ]
    }
   ],
   "source": [
    "print(f\"Shape de df_analise: {df_analise.shape}\")\n",
    "print(f\"Quantidade de desativados: {desativados_mask.sum()}\")\n"
   ]
  },
  {
   "cell_type": "code",
   "execution_count": 7,
   "id": "971dac2d",
   "metadata": {},
   "outputs": [
    {
     "data": {
      "text/plain": [
       "1098"
      ]
     },
     "execution_count": 7,
     "metadata": {},
     "output_type": "execute_result"
    }
   ],
   "source": [
    "df_desativadas = df_anterior.loc[desativados_mask]\n",
    "df_desativadas.shape[0]\n"
   ]
  },
  {
   "cell_type": "markdown",
   "id": "1b1d2ea3",
   "metadata": {},
   "source": [
    "### RECUPERANDO ATIVOS REMANESCENTES"
   ]
  },
  {
   "cell_type": "code",
   "execution_count": 8,
   "id": "a27486c5",
   "metadata": {},
   "outputs": [
    {
     "data": {
      "text/html": [
       "<div>\n",
       "<style scoped>\n",
       "    .dataframe tbody tr th:only-of-type {\n",
       "        vertical-align: middle;\n",
       "    }\n",
       "\n",
       "    .dataframe tbody tr th {\n",
       "        vertical-align: top;\n",
       "    }\n",
       "\n",
       "    .dataframe thead th {\n",
       "        text-align: right;\n",
       "    }\n",
       "</style>\n",
       "<table border=\"1\" class=\"dataframe\">\n",
       "  <thead>\n",
       "    <tr style=\"text-align: right;\">\n",
       "      <th></th>\n",
       "      <th>placa</th>\n",
       "      <th>chassi</th>\n",
       "      <th>id_placa</th>\n",
       "      <th>id_veiculo</th>\n",
       "      <th>id_carroceria</th>\n",
       "      <th>matricula</th>\n",
       "      <th>conjunto</th>\n",
       "      <th>unidade</th>\n",
       "      <th>consultor</th>\n",
       "      <th>status</th>\n",
       "      <th>...</th>\n",
       "      <th>empresa</th>\n",
       "      <th>coverage</th>\n",
       "      <th>beneficio</th>\n",
       "      <th>categoria</th>\n",
       "      <th>tipo_categoria</th>\n",
       "      <th>data_ativacao_beneficio</th>\n",
       "      <th>status_beneficio</th>\n",
       "      <th>data_atualizacao</th>\n",
       "      <th>consultor_ativo</th>\n",
       "      <th>id_beneficio</th>\n",
       "    </tr>\n",
       "  </thead>\n",
       "  <tbody>\n",
       "    <tr>\n",
       "      <th>0</th>\n",
       "      <td>MRY5651</td>\n",
       "      <td>9BFYCEHV38BB07656</td>\n",
       "      <td>580964</td>\n",
       "      <td>580964</td>\n",
       "      <td>&lt;NA&gt;</td>\n",
       "      <td>3266</td>\n",
       "      <td>4336</td>\n",
       "      <td>TRANSDESK DIGITAL LTDA</td>\n",
       "      <td>Rithieli Ferreira de Lima</td>\n",
       "      <td>NOVO</td>\n",
       "      <td>...</td>\n",
       "      <td>Tag</td>\n",
       "      <td>726259</td>\n",
       "      <td>Assistência 24 Horas</td>\n",
       "      <td>PESADOS - CAMINHÃO</td>\n",
       "      <td>ACIMA DE 15 ANOS</td>\n",
       "      <td>2025-09-29</td>\n",
       "      <td>NOVO</td>\n",
       "      <td>1754-08-30 22:43:41.128654848</td>\n",
       "      <td>S</td>\n",
       "      <td>41</td>\n",
       "    </tr>\n",
       "    <tr>\n",
       "      <th>1</th>\n",
       "      <td>MRY5651</td>\n",
       "      <td>9BFYCEHV38BB07656</td>\n",
       "      <td>580964</td>\n",
       "      <td>580964</td>\n",
       "      <td>&lt;NA&gt;</td>\n",
       "      <td>3266</td>\n",
       "      <td>4336</td>\n",
       "      <td>TRANSDESK DIGITAL LTDA</td>\n",
       "      <td>Rithieli Ferreira de Lima</td>\n",
       "      <td>NOVO</td>\n",
       "      <td>...</td>\n",
       "      <td>Tag</td>\n",
       "      <td>726257</td>\n",
       "      <td>Casco PT (COMPLEMENTO)</td>\n",
       "      <td>CARROCERIA BAÚ</td>\n",
       "      <td>PADRÃO</td>\n",
       "      <td>2025-09-29</td>\n",
       "      <td>NOVO</td>\n",
       "      <td>1754-08-30 22:43:41.128654848</td>\n",
       "      <td>S</td>\n",
       "      <td>36</td>\n",
       "    </tr>\n",
       "    <tr>\n",
       "      <th>2</th>\n",
       "      <td>MRY5651</td>\n",
       "      <td>9BFYCEHV38BB07656</td>\n",
       "      <td>580964</td>\n",
       "      <td>580964</td>\n",
       "      <td>&lt;NA&gt;</td>\n",
       "      <td>3266</td>\n",
       "      <td>4336</td>\n",
       "      <td>TRANSDESK DIGITAL LTDA</td>\n",
       "      <td>Rithieli Ferreira de Lima</td>\n",
       "      <td>NOVO</td>\n",
       "      <td>...</td>\n",
       "      <td>Tag</td>\n",
       "      <td>726256</td>\n",
       "      <td>Assistência a Reparos (VEÍCULO)</td>\n",
       "      <td>PESADOS - CAMINHÃO</td>\n",
       "      <td>PADRÃO - 4%</td>\n",
       "      <td>2025-09-29</td>\n",
       "      <td>NOVO</td>\n",
       "      <td>1754-08-30 22:43:41.128654848</td>\n",
       "      <td>S</td>\n",
       "      <td>37</td>\n",
       "    </tr>\n",
       "    <tr>\n",
       "      <th>3</th>\n",
       "      <td>MRY5651</td>\n",
       "      <td>9BFYCEHV38BB07656</td>\n",
       "      <td>580964</td>\n",
       "      <td>580964</td>\n",
       "      <td>&lt;NA&gt;</td>\n",
       "      <td>3266</td>\n",
       "      <td>4336</td>\n",
       "      <td>TRANSDESK DIGITAL LTDA</td>\n",
       "      <td>Rithieli Ferreira de Lima</td>\n",
       "      <td>NOVO</td>\n",
       "      <td>...</td>\n",
       "      <td>Tag</td>\n",
       "      <td>726255</td>\n",
       "      <td>Casco PT (VEÍCULO)</td>\n",
       "      <td>PESADOS - CAMINHÃO</td>\n",
       "      <td>PADRÃO</td>\n",
       "      <td>2025-09-29</td>\n",
       "      <td>NOVO</td>\n",
       "      <td>1754-08-30 22:43:41.128654848</td>\n",
       "      <td>S</td>\n",
       "      <td>34</td>\n",
       "    </tr>\n",
       "    <tr>\n",
       "      <th>4</th>\n",
       "      <td>ELQ5F23</td>\n",
       "      <td>9BVAS02C7BE773053</td>\n",
       "      <td>1246361</td>\n",
       "      <td>1246361</td>\n",
       "      <td>&lt;NA&gt;</td>\n",
       "      <td>3267</td>\n",
       "      <td>4340</td>\n",
       "      <td>UNIDADE CASCAVEL</td>\n",
       "      <td>Cesar Augusto Magalhaes Silva</td>\n",
       "      <td>NOVO</td>\n",
       "      <td>...</td>\n",
       "      <td>Tag</td>\n",
       "      <td>726289</td>\n",
       "      <td>Assistência a Vidros</td>\n",
       "      <td>PESADOS - CAVALO MECÂNICO</td>\n",
       "      <td>DE 1980 ATÉ 2019</td>\n",
       "      <td>2025-09-29</td>\n",
       "      <td>NOVO</td>\n",
       "      <td>1754-08-30 22:43:41.128654848</td>\n",
       "      <td>S</td>\n",
       "      <td>42</td>\n",
       "    </tr>\n",
       "  </tbody>\n",
       "</table>\n",
       "<p>5 rows × 25 columns</p>\n",
       "</div>"
      ],
      "text/plain": [
       "     placa             chassi  id_placa  id_veiculo  id_carroceria  matricula  \\\n",
       "0  MRY5651  9BFYCEHV38BB07656    580964      580964           <NA>       3266   \n",
       "1  MRY5651  9BFYCEHV38BB07656    580964      580964           <NA>       3266   \n",
       "2  MRY5651  9BFYCEHV38BB07656    580964      580964           <NA>       3266   \n",
       "3  MRY5651  9BFYCEHV38BB07656    580964      580964           <NA>       3266   \n",
       "4  ELQ5F23  9BVAS02C7BE773053   1246361     1246361           <NA>       3267   \n",
       "\n",
       "   conjunto                 unidade                      consultor status  \\\n",
       "0      4336  TRANSDESK DIGITAL LTDA      Rithieli Ferreira de Lima   NOVO   \n",
       "1      4336  TRANSDESK DIGITAL LTDA      Rithieli Ferreira de Lima   NOVO   \n",
       "2      4336  TRANSDESK DIGITAL LTDA      Rithieli Ferreira de Lima   NOVO   \n",
       "3      4336  TRANSDESK DIGITAL LTDA      Rithieli Ferreira de Lima   NOVO   \n",
       "4      4340        UNIDADE CASCAVEL  Cesar Augusto Magalhaes Silva   NOVO   \n",
       "\n",
       "   ... empresa coverage                        beneficio  \\\n",
       "0  ...     Tag   726259             Assistência 24 Horas   \n",
       "1  ...     Tag   726257           Casco PT (COMPLEMENTO)   \n",
       "2  ...     Tag   726256  Assistência a Reparos (VEÍCULO)   \n",
       "3  ...     Tag   726255               Casco PT (VEÍCULO)   \n",
       "4  ...     Tag   726289             Assistência a Vidros   \n",
       "\n",
       "                   categoria    tipo_categoria data_ativacao_beneficio  \\\n",
       "0         PESADOS - CAMINHÃO  ACIMA DE 15 ANOS              2025-09-29   \n",
       "1             CARROCERIA BAÚ            PADRÃO              2025-09-29   \n",
       "2         PESADOS - CAMINHÃO       PADRÃO - 4%              2025-09-29   \n",
       "3         PESADOS - CAMINHÃO            PADRÃO              2025-09-29   \n",
       "4  PESADOS - CAVALO MECÂNICO  DE 1980 ATÉ 2019              2025-09-29   \n",
       "\n",
       "   status_beneficio              data_atualizacao consultor_ativo id_beneficio  \n",
       "0              NOVO 1754-08-30 22:43:41.128654848               S           41  \n",
       "1              NOVO 1754-08-30 22:43:41.128654848               S           36  \n",
       "2              NOVO 1754-08-30 22:43:41.128654848               S           37  \n",
       "3              NOVO 1754-08-30 22:43:41.128654848               S           34  \n",
       "4              NOVO 1754-08-30 22:43:41.128654848               S           42  \n",
       "\n",
       "[5 rows x 25 columns]"
      ]
     },
     "execution_count": 8,
     "metadata": {},
     "output_type": "execute_result"
    }
   ],
   "source": [
    "query_path = r\"C:\\Users\\raphael.almeida\\Documents\\Processos\\placas_movimentacoes\\sql\\others_query.sql\"\n",
    "with open(query_path, \"r\") as file:\n",
    "    query = file.read()\n",
    "\n",
    "df_conferencia = awr.athena.read_sql_query(query, database='silver')\n",
    "df_conferencia.head()  "
   ]
  },
  {
   "cell_type": "code",
   "execution_count": 9,
   "id": "2d056dca",
   "metadata": {},
   "outputs": [],
   "source": [
    "df_conferencia_sorted = df_conferencia.sort_values(by='data_ativacao', ascending=False)\n",
    "df_conferencia_sorted.drop_duplicates(subset='chassi', keep='first', inplace=True)"
   ]
  },
  {
   "cell_type": "code",
   "execution_count": 10,
   "id": "e122ca96",
   "metadata": {},
   "outputs": [],
   "source": [
    "df_desativadas_status = df_desativadas.merge(\n",
    "    df_conferencia_sorted[['chassi', 'status_beneficio']],\n",
    "    on='chassi',\n",
    "    how='left'\n",
    ")"
   ]
  },
  {
   "cell_type": "code",
   "execution_count": 11,
   "id": "77c54627",
   "metadata": {},
   "outputs": [
    {
     "data": {
      "text/plain": [
       "1098"
      ]
     },
     "execution_count": 11,
     "metadata": {},
     "output_type": "execute_result"
    }
   ],
   "source": [
    "df_desativadas_status.shape[0]"
   ]
  },
  {
   "cell_type": "code",
   "execution_count": 12,
   "id": "bd31f087",
   "metadata": {},
   "outputs": [
    {
     "data": {
      "text/plain": [
       "status_beneficio_y\n",
       "ATIVO        803\n",
       "CANCELADO    257\n",
       "NOVO          37\n",
       "<NA>           1\n",
       "Name: count, dtype: Int64"
      ]
     },
     "execution_count": 12,
     "metadata": {},
     "output_type": "execute_result"
    }
   ],
   "source": [
    "df_desativadas_status['status_beneficio_y'].value_counts(dropna=False)"
   ]
  },
  {
   "cell_type": "code",
   "execution_count": 13,
   "id": "5d61d5c6",
   "metadata": {},
   "outputs": [
    {
     "data": {
      "text/plain": [
       "Index(['placa', 'chassi', 'id_placa', 'id_veiculo', 'id_carroceria',\n",
       "       'matricula', 'conjunto', 'unidade', 'consultor', 'cliente',\n",
       "       'data_registro', 'data_ativacao', 'data_ativacao_beneficio', 'suporte',\n",
       "       'data_filtro', 'empresa', 'migration_from', 'status_beneficio'],\n",
       "      dtype='object')"
      ]
     },
     "execution_count": 13,
     "metadata": {},
     "output_type": "execute_result"
    }
   ],
   "source": [
    "df_desativadas_status = df_desativadas_status.drop(columns=['status_beneficio_x'])\n",
    "df_desativadas_status = df_desativadas_status.rename(columns={'status_beneficio_y': 'status_beneficio'})\n",
    "df_desativadas_status.columns"
   ]
  },
  {
   "cell_type": "code",
   "execution_count": 14,
   "id": "517d096a",
   "metadata": {},
   "outputs": [
    {
     "name": "stdout",
     "output_type": "stream",
     "text": [
      "840\n",
      "258\n"
     ]
    },
    {
     "name": "stderr",
     "output_type": "stream",
     "text": [
      "C:\\Users\\raphael.almeida\\AppData\\Local\\Temp\\ipykernel_23000\\312725541.py:3: SettingWithCopyWarning: \n",
      "A value is trying to be set on a copy of a slice from a DataFrame.\n",
      "Try using .loc[row_indexer,col_indexer] = value instead\n",
      "\n",
      "See the caveats in the documentation: https://pandas.pydata.org/pandas-docs/stable/user_guide/indexing.html#returning-a-view-versus-a-copy\n",
      "  df_desativadas_ativas['status_beneficio'] = 'ATIVO'\n"
     ]
    }
   ],
   "source": [
    "df_desativadas_ativas = df_desativadas_status[df_desativadas_status['status_beneficio'].isin(['ATIVO', 'NOVO'])]\n",
    "df_desativadas_canceladas = df_desativadas_status[~df_desativadas_status['status_beneficio'].isin(['ATIVO', 'NOVO'])]\n",
    "df_desativadas_ativas['status_beneficio'] = 'ATIVO'\n",
    "\n",
    "\n",
    "print(df_desativadas_ativas.shape[0])\n",
    "print(df_desativadas_canceladas.shape[0])"
   ]
  },
  {
   "cell_type": "code",
   "execution_count": 15,
   "id": "253cc637",
   "metadata": {},
   "outputs": [],
   "source": [
    "df_final = pd.concat([df_analise, df_desativadas_ativas]).drop_duplicates(subset='chassi')"
   ]
  },
  {
   "cell_type": "code",
   "execution_count": 16,
   "id": "21a137bb",
   "metadata": {},
   "outputs": [
    {
     "data": {
      "text/plain": [
       "status_beneficio\n",
       "ATIVO         33092\n",
       "RENOVAÇÃO        17\n",
       "MIGRAÇÃO          5\n",
       "REATIVAÇÃO        3\n",
       "Name: count, dtype: int64"
      ]
     },
     "execution_count": 16,
     "metadata": {},
     "output_type": "execute_result"
    }
   ],
   "source": [
    "df_final['status_beneficio'].value_counts()"
   ]
  },
  {
   "cell_type": "code",
   "execution_count": 17,
   "id": "65d5304e",
   "metadata": {},
   "outputs": [
    {
     "data": {
      "text/html": [
       "<div>\n",
       "<style scoped>\n",
       "    .dataframe tbody tr th:only-of-type {\n",
       "        vertical-align: middle;\n",
       "    }\n",
       "\n",
       "    .dataframe tbody tr th {\n",
       "        vertical-align: top;\n",
       "    }\n",
       "\n",
       "    .dataframe thead th {\n",
       "        text-align: right;\n",
       "    }\n",
       "</style>\n",
       "<table border=\"1\" class=\"dataframe\">\n",
       "  <thead>\n",
       "    <tr style=\"text-align: right;\">\n",
       "      <th></th>\n",
       "      <th>placa</th>\n",
       "      <th>chassi</th>\n",
       "      <th>id_placa</th>\n",
       "      <th>id_veiculo</th>\n",
       "      <th>id_carroceria</th>\n",
       "      <th>matricula</th>\n",
       "      <th>conjunto</th>\n",
       "      <th>unidade</th>\n",
       "      <th>consultor</th>\n",
       "      <th>status_beneficio</th>\n",
       "      <th>cliente</th>\n",
       "      <th>data_registro</th>\n",
       "      <th>data_ativacao</th>\n",
       "      <th>data_ativacao_beneficio</th>\n",
       "      <th>suporte</th>\n",
       "      <th>data_filtro</th>\n",
       "      <th>empresa</th>\n",
       "      <th>migration_from</th>\n",
       "    </tr>\n",
       "  </thead>\n",
       "  <tbody>\n",
       "    <tr>\n",
       "      <th>0</th>\n",
       "      <td>QAW5E74</td>\n",
       "      <td>9BVRG40D2ME886599</td>\n",
       "      <td>1078</td>\n",
       "      <td>1078</td>\n",
       "      <td>0</td>\n",
       "      <td>17532</td>\n",
       "      <td>15890</td>\n",
       "      <td>UNIDADE DOURADOS</td>\n",
       "      <td>Pedro Scheffer</td>\n",
       "      <td>RENOVAÇÃO</td>\n",
       "      <td>ALLAN CHRISTIAN KRUGER</td>\n",
       "      <td>2025-09-22</td>\n",
       "      <td>2025-09-29</td>\n",
       "      <td>2025-09-29</td>\n",
       "      <td>Ana Balicki</td>\n",
       "      <td>2025-09-30</td>\n",
       "      <td>Stcoop</td>\n",
       "      <td>NaN</td>\n",
       "    </tr>\n",
       "    <tr>\n",
       "      <th>1</th>\n",
       "      <td>SIV6E52</td>\n",
       "      <td>9536B8TDXPR057552</td>\n",
       "      <td>3709</td>\n",
       "      <td>3709</td>\n",
       "      <td>0</td>\n",
       "      <td>20015</td>\n",
       "      <td>15935</td>\n",
       "      <td>UNIDADE UBERLÂNDIA</td>\n",
       "      <td>Rodrigo Almeida</td>\n",
       "      <td>RENOVAÇÃO</td>\n",
       "      <td>ELEANDRO SINESIO SANTOS XAVIER</td>\n",
       "      <td>2025-09-25</td>\n",
       "      <td>2025-09-29</td>\n",
       "      <td>2025-09-29</td>\n",
       "      <td>João Paulo Ribeiro Pinto</td>\n",
       "      <td>2025-09-30</td>\n",
       "      <td>Stcoop</td>\n",
       "      <td>NaN</td>\n",
       "    </tr>\n",
       "    <tr>\n",
       "      <th>2</th>\n",
       "      <td>DSM6E22</td>\n",
       "      <td>9BVRG20C9LE869600</td>\n",
       "      <td>626</td>\n",
       "      <td>626</td>\n",
       "      <td>0</td>\n",
       "      <td>20100</td>\n",
       "      <td>15858</td>\n",
       "      <td>UNIDADE JOINVILLE</td>\n",
       "      <td>Ana Beatriz Prioste</td>\n",
       "      <td>RENOVAÇÃO</td>\n",
       "      <td>EDIR JOSE FIAMONCINI</td>\n",
       "      <td>2025-09-19</td>\n",
       "      <td>2025-09-29</td>\n",
       "      <td>2025-09-29</td>\n",
       "      <td>João Paulo Ribeiro Pinto</td>\n",
       "      <td>2025-09-30</td>\n",
       "      <td>Stcoop</td>\n",
       "      <td>NaN</td>\n",
       "    </tr>\n",
       "    <tr>\n",
       "      <th>3</th>\n",
       "      <td>SLJ4J16</td>\n",
       "      <td>9BM951501PB330226</td>\n",
       "      <td>4889</td>\n",
       "      <td>4889</td>\n",
       "      <td>0</td>\n",
       "      <td>20131</td>\n",
       "      <td>15731</td>\n",
       "      <td>UNIDADE CASCAVEL</td>\n",
       "      <td>Aline Dayla Unidades</td>\n",
       "      <td>RENOVAÇÃO</td>\n",
       "      <td>RACOES E CEREAIS NORTE LTDA - ME</td>\n",
       "      <td>2025-09-10</td>\n",
       "      <td>2025-09-29</td>\n",
       "      <td>2025-09-29</td>\n",
       "      <td>João Paulo Ribeiro Pinto</td>\n",
       "      <td>2025-09-30</td>\n",
       "      <td>Stcoop</td>\n",
       "      <td>NaN</td>\n",
       "    </tr>\n",
       "    <tr>\n",
       "      <th>4</th>\n",
       "      <td>RXM6A67</td>\n",
       "      <td>96AF1483MNJ004337</td>\n",
       "      <td>1811</td>\n",
       "      <td>0</td>\n",
       "      <td>1811</td>\n",
       "      <td>19750</td>\n",
       "      <td>15894</td>\n",
       "      <td>UNIDADE ITAJAI</td>\n",
       "      <td>Gabriel Soares</td>\n",
       "      <td>RENOVAÇÃO</td>\n",
       "      <td>AGILGROUP LOGISTICA LTDA</td>\n",
       "      <td>2025-09-22</td>\n",
       "      <td>2025-09-29</td>\n",
       "      <td>2025-09-29</td>\n",
       "      <td>João Paulo Ribeiro Pinto</td>\n",
       "      <td>2025-09-30</td>\n",
       "      <td>Stcoop</td>\n",
       "      <td>NaN</td>\n",
       "    </tr>\n",
       "  </tbody>\n",
       "</table>\n",
       "</div>"
      ],
      "text/plain": [
       "     placa             chassi  id_placa  id_veiculo  id_carroceria  matricula  \\\n",
       "0  QAW5E74  9BVRG40D2ME886599      1078        1078              0      17532   \n",
       "1  SIV6E52  9536B8TDXPR057552      3709        3709              0      20015   \n",
       "2  DSM6E22  9BVRG20C9LE869600       626         626              0      20100   \n",
       "3  SLJ4J16  9BM951501PB330226      4889        4889              0      20131   \n",
       "4  RXM6A67  96AF1483MNJ004337      1811           0           1811      19750   \n",
       "\n",
       "   conjunto             unidade             consultor status_beneficio  \\\n",
       "0     15890    UNIDADE DOURADOS        Pedro Scheffer        RENOVAÇÃO   \n",
       "1     15935  UNIDADE UBERLÂNDIA       Rodrigo Almeida        RENOVAÇÃO   \n",
       "2     15858   UNIDADE JOINVILLE   Ana Beatriz Prioste        RENOVAÇÃO   \n",
       "3     15731    UNIDADE CASCAVEL  Aline Dayla Unidades        RENOVAÇÃO   \n",
       "4     15894      UNIDADE ITAJAI        Gabriel Soares        RENOVAÇÃO   \n",
       "\n",
       "                            cliente data_registro data_ativacao  \\\n",
       "0            ALLAN CHRISTIAN KRUGER    2025-09-22    2025-09-29   \n",
       "1    ELEANDRO SINESIO SANTOS XAVIER    2025-09-25    2025-09-29   \n",
       "2              EDIR JOSE FIAMONCINI    2025-09-19    2025-09-29   \n",
       "3  RACOES E CEREAIS NORTE LTDA - ME    2025-09-10    2025-09-29   \n",
       "4          AGILGROUP LOGISTICA LTDA    2025-09-22    2025-09-29   \n",
       "\n",
       "  data_ativacao_beneficio                   suporte data_filtro empresa  \\\n",
       "0              2025-09-29               Ana Balicki  2025-09-30  Stcoop   \n",
       "1              2025-09-29  João Paulo Ribeiro Pinto  2025-09-30  Stcoop   \n",
       "2              2025-09-29  João Paulo Ribeiro Pinto  2025-09-30  Stcoop   \n",
       "3              2025-09-29  João Paulo Ribeiro Pinto  2025-09-30  Stcoop   \n",
       "4              2025-09-29  João Paulo Ribeiro Pinto  2025-09-30  Stcoop   \n",
       "\n",
       "  migration_from  \n",
       "0            NaN  \n",
       "1            NaN  \n",
       "2            NaN  \n",
       "3            NaN  \n",
       "4            NaN  "
      ]
     },
     "execution_count": 17,
     "metadata": {},
     "output_type": "execute_result"
    }
   ],
   "source": [
    "df_final.head()"
   ]
  },
  {
   "cell_type": "code",
   "execution_count": 18,
   "id": "538dccff",
   "metadata": {},
   "outputs": [],
   "source": [
    "\n",
    "lista_chassi_anterior = df_anterior['chassi'].tolist()\n",
    "novos_mask = ~df_analise['chassi'].isin(lista_chassi_anterior)\n"
   ]
  },
  {
   "cell_type": "code",
   "execution_count": 19,
   "id": "451b9c8b",
   "metadata": {},
   "outputs": [],
   "source": [
    "df_final.loc[novos_mask, 'status_beneficio'] = 'NOVO'"
   ]
  },
  {
   "cell_type": "code",
   "execution_count": 20,
   "id": "c4094df3",
   "metadata": {},
   "outputs": [
    {
     "name": "stdout",
     "output_type": "stream",
     "text": [
      "Shape de df_anterior: (33318, 18)\n",
      "Shape de df_final: (33117, 18)\n",
      "Quantidade de novos: 57\n",
      "Quantidade de desativados: 1098\n",
      "Quantidade de desativados ativos: 840\n",
      "Quantidade de desativados cancelados: 258\n"
     ]
    }
   ],
   "source": [
    "print(f\"Shape de df_anterior: {df_anterior.shape}\")\n",
    "print(f\"Shape de df_final: {df_final.shape}\")\n",
    "print(f\"Quantidade de novos: {novos_mask.sum()}\")\n",
    "\n",
    "print(f\"Quantidade de desativados: {desativados_mask.sum()}\")\n",
    "print(f\"Quantidade de desativados ativos: {df_desativadas_ativas.shape[0]}\")\n",
    "print(f\"Quantidade de desativados cancelados: {df_desativadas_canceladas.shape[0]}\")"
   ]
  },
  {
   "cell_type": "markdown",
   "id": "9fceb487",
   "metadata": {},
   "source": [
    "# LOAD"
   ]
  },
  {
   "cell_type": "code",
   "execution_count": 21,
   "id": "3932948b",
   "metadata": {},
   "outputs": [],
   "source": [
    "xlsx_analise = rf\"C:\\Users\\raphael.almeida\\OneDrive - Grupo Unus\\analise de dados - Arquivos em excel\\Relatório de Ativações Placas\\placas_movimentacoes_{today}.xlsx\"\n",
    "df_final.to_excel(xlsx_analise, engine='openpyxl', index=False)\n",
    "\n",
    "path_canceladas = r\"C:\\Users\\raphael.almeida\\OneDrive - Grupo Unus\\analise de dados - Arquivos em excel\\Relatório de Ativações Placas\\placas_desativadas.xlsx\"\n",
    "df_desativadas_canceladas.to_excel(path_canceladas, engine='openpyxl', index=False)\n",
    "\n",
    "xlsx_analise = rf\"C:\\Users\\raphael.almeida\\Documents\\Processos\\placas_movimentacoes\\bkp_activation\\placas_movimentacoes_{today}.xlsx\"\n",
    "df_final.to_excel(xlsx_analise, engine='openpyxl', index=False)\n",
    "\n",
    "xlsx_rm_path = rf\"C:\\Users\\raphael.almeida\\OneDrive - Grupo Unus\\analise de dados - Arquivos em excel\\Relatório de Ativações Placas\\placas_movimentacoes_{dbf_yesterday}.xlsx\"\n",
    "if os.path.exists(xlsx_rm_path):\n",
    "    os.remove(xlsx_rm_path)"
   ]
  }
 ],
 "metadata": {
  "kernelspec": {
   "display_name": "env2",
   "language": "python",
   "name": "python3"
  },
  "language_info": {
   "codemirror_mode": {
    "name": "ipython",
    "version": 3
   },
   "file_extension": ".py",
   "mimetype": "text/x-python",
   "name": "python",
   "nbconvert_exporter": "python",
   "pygments_lexer": "ipython3",
   "version": "3.12.4"
  }
 },
 "nbformat": 4,
 "nbformat_minor": 5
}
