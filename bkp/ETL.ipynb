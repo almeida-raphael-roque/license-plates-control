{
 "cells": [
  {
   "cell_type": "markdown",
   "id": "96e3eaa2",
   "metadata": {},
   "source": [
    "# EXTRACT"
   ]
  },
  {
   "cell_type": "code",
   "execution_count": 5,
   "id": "7ceb449c",
   "metadata": {},
   "outputs": [],
   "source": [
    "dir_query = os.path.join(path, 'sql', 'all_boards_ATIVOS.sql')\n",
    "with open(dir_query, 'r') as file:\n",
    "    query = file.read()\n",
    "df_ativacoes = awr.athena.read_sql_query(query, database='silver')\n",
    "\n",
    "\n",
    "\n"
   ]
  },
  {
   "cell_type": "code",
   "execution_count": 6,
   "id": "014966a9",
   "metadata": {},
   "outputs": [
    {
     "data": {
      "text/plain": [
       "114685"
      ]
     },
     "execution_count": 6,
     "metadata": {},
     "output_type": "execute_result"
    }
   ],
   "source": [
    "df_ativacoes.shape[0]"
   ]
  },
  {
   "cell_type": "code",
   "execution_count": 11,
   "id": "5e0728ba",
   "metadata": {},
   "outputs": [
    {
     "data": {
      "text/plain": [
       "33548"
      ]
     },
     "execution_count": 11,
     "metadata": {},
     "output_type": "execute_result"
    }
   ],
   "source": [
    "df_ativacoes_ativos = df_ativacoes[df_ativacoes['status_beneficio']=='ATIVO']\n",
    "df_ativacoes_ativos_semdup = df_ativacoes_ativos.drop_duplicates(subset=['chassi'])\n",
    "df_ativacoes_ativos_semdup = df_ativacoes_ativos_semdup[df_ativacoes_ativos_semdup['status_beneficio']=='ATIVO']\n",
    "df_ativacoes_ativos_semdup.shape[0]"
   ]
  },
  {
   "cell_type": "code",
   "execution_count": 12,
   "id": "82c78c5e",
   "metadata": {},
   "outputs": [],
   "source": [
    "# TRANSFORM\n",
    "\n",
    "# DEFININDO DATAFRAMES VAZIOS \n",
    "df_final_ativacoes_concat = pd.DataFrame()\n",
    "\n",
    "\n",
    "# Assegure que df_cancelamentos e df_ativacoes já existem no escopo global antes de rodar este bloco!\n",
    "# TRANSFORMANDO DF_ATIV E SEGMENTANDO POR EMPRESA\n",
    "\n",
    "\n",
    "df_ativ_all_boards = df_ativacoes\n",
    "\n",
    "df_ativ_all_boards['data_ativacao_beneficio'] = pd.to_datetime(df_ativ_all_boards['data_ativacao_beneficio']).dt.date\n",
    "\n",
    "df_ativ_all_boards['beneficio'] = (\n",
    "    df_ativ_all_boards['beneficio']\n",
    "    .replace('REPARAÇÃO OU REPOSIÇÃO DO VEÍCULO', 'CASCO (VEÍCULO)')\n",
    "    .replace('REPARAÇÃO OU REPOSIÇÃO DO (SEMI)REBOQUE', 'CASCO (R/SR)')\n",
    "    .replace('REPARAÇÃO OU REPOSIÇÃO DO COMPLEMENTO', 'CASCO (COMPLEMENTO)')\n",
    ")\n",
    "\n",
    "df_ativ_viavante = df_ativ_all_boards[df_ativ_all_boards['empresa'] == 'Viavante']\n",
    "df_ativ_stcoop = df_ativ_all_boards[df_ativ_all_boards['empresa'] == 'Stcoop']\n",
    "df_ativ_segtruck = df_ativ_all_boards[df_ativ_all_boards['empresa'] == 'Segtruck']\n",
    "df_ativ_tag = df_ativ_all_boards[df_ativ_all_boards['empresa'] == 'Tag']\n",
    "\n",
    "# SELECIONANDO APENAS AS ATIVAÇÕES CORRESPONDENTES AOS BENEFICIOS 'CASCO' / 'TERCEIRO' POR UM REGEX PADRÃO\n",
    "ids_beneficios_segtruck = [2, 3, 4, 7, 24, 25, 26, 29]\n",
    "ids_beneficios_stcoop = [24, 25, 26, 29]\n",
    "ids_beneficios_viavante = [40, 41, 42, 45]\n",
    "ids_beneficios_tag = [2, 3, 4, 7, 24, 25, 26, 29, 34, 35, 36, 37, 38, 39]\n",
    "\n",
    "df_ativ_viavante = df_ativ_viavante.loc[df_ativ_viavante['id_beneficio'].isin(ids_beneficios_viavante)]\n",
    "df_ativ_stcoop = df_ativ_stcoop[df_ativ_stcoop['id_beneficio'].isin(ids_beneficios_stcoop)]\n",
    "df_ativ_segtruck = df_ativ_segtruck.loc[df_ativ_segtruck['id_beneficio'].isin(ids_beneficios_segtruck)]\n",
    "df_ativ_tag = df_ativ_tag.loc[df_ativ_tag['id_beneficio'].isin(ids_beneficios_tag)]\n",
    "\n",
    "# CONCATENANDO E CRIANDO COLUNA DE MIGRAÇÃO (MIGRATION_FROM) \n",
    "df_final_ativacoes_concat = pd.concat([df_ativ_viavante, df_ativ_stcoop, df_ativ_segtruck, df_ativ_tag])\n"
   ]
  },
  {
   "cell_type": "code",
   "execution_count": null,
   "id": "a222e60f",
   "metadata": {},
   "outputs": [],
   "source": [
    "\n",
    "if not df_final_ativacoes_concat.empty:\n",
    "    df_final_ativacoes_concat['migration_from'] = np.nan\n",
    "\n",
    "# DEFININDO COLUNAS QUE SERÃO UTILIZADAS NO DATAFRAME FINAL\n",
    "df_final_ativacoes_concat = df_final_ativacoes_concat[[\n",
    "    'placa', 'chassi', 'id_placa', 'id_veiculo', 'id_carroceria', 'matricula', 'conjunto', 'unidade', 'consultor', 'status_beneficio', \n",
    "    'cliente', 'data_registro', 'data_ativacao_beneficio', 'suporte', 'data_filtro', 'empresa', 'migration_from'\n",
    "]]\n",
    "\n",
    "# RETIRANDO DUPLICATAS\n",
    "df_final_ativacoes_concat = df_final_ativacoes_concat.drop_duplicates(subset=['chassi'])\n",
    "\n",
    "# TRATANDO DADOS NULOS NOS DATAFRAMES\n",
    "df_final_ativacoes_concat['placa'] = df_final_ativacoes_concat['placa'].fillna('SEM-PLACA')\n",
    "df_final_ativacoes_concat['chassi'] = df_final_ativacoes_concat['chassi'].fillna('NULL')\n",
    "df_final_ativacoes_concat['id_placa'] = df_final_ativacoes_concat['id_placa'].fillna(0)\n",
    "df_final_ativacoes_concat['id_veiculo'] = df_final_ativacoes_concat['id_veiculo'].fillna(0)\n",
    "df_final_ativacoes_concat['id_carroceria'] = df_final_ativacoes_concat['id_carroceria'].fillna(0)\n",
    "df_final_ativacoes_concat['matricula'] = df_final_ativacoes_concat['matricula'].fillna(0)\n",
    "df_final_ativacoes_concat['conjunto'] = df_final_ativacoes_concat['conjunto'].fillna(0)\n",
    "df_final_ativacoes_concat['unidade'] = df_final_ativacoes_concat['unidade'].fillna('NULL')\n",
    "df_final_ativacoes_concat['consultor'] = df_final_ativacoes_concat['consultor'].fillna('NULL')\n",
    "df_final_ativacoes_concat['status_beneficio'] = df_final_ativacoes_concat['status_beneficio'].fillna('NULL')\n",
    "df_final_ativacoes_concat['cliente'] = df_final_ativacoes_concat['cliente'].fillna('NULL')\n",
    "df_final_ativacoes_concat['data_registro'] = df_final_ativacoes_concat['data_registro'].fillna(pd.Timestamp('1900-01-01'))\n",
    "df_final_ativacoes_concat['data_ativacao_beneficio'] = df_final_ativacoes_concat['data_ativacao_beneficio'].fillna(pd.Timestamp('1900-01-01'))\n",
    "df_final_ativacoes_concat['suporte'] = df_final_ativacoes_concat['suporte'].fillna('NULL')\n",
    "df_final_ativacoes_concat['data_filtro'] = df_final_ativacoes_concat['data_filtro'].fillna(pd.Timestamp('1900-01-01'))\n",
    "df_final_ativacoes_concat['empresa'] = df_final_ativacoes_concat['empresa'].fillna('NULL')\n",
    "df_final_ativacoes_concat['migration_from'] = df_final_ativacoes_concat['migration_from'].fillna('NULL')\n",
    "\n",
    "# LOAD\n",
    "\n",
    "# Assegure que today já existe no escopo global antes de rodar este bloco!\n",
    "file_path = rf\"C:\\Users\\raphael.almeida\\Documents\\Processos\\placas_acompanhamento\\template\\placas_movimentacoes.xlsx\"\n",
    "\n",
    "destination_dir = r\"C:\\Users\\raphael.almeida\\OneDrive - Grupo Unus\\analise de dados - Arquivos em excel\\Relatório de Ativações Placas\"\n",
    "destination_path = os.path.join(destination_dir, os.path.basename(file_path))\n",
    "\n",
    "destination_dir2 = r\"C:\\Users\\raphael.almeida\\Documents\\Processos\\placas_movimentacoes\\bkp_activation\"\n",
    "destination_path2 = os.path.join(destination_dir2, os.path.basename(file_path))\n",
    "\n",
    "os.makedirs(destination_dir, exist_ok=True)\n",
    "os.makedirs(destination_dir2, exist_ok=True)\n",
    "\n",
    "with pd.ExcelWriter(destination_path, engine='openpyxl') as writer:\n",
    "    df_final_ativacoes_concat.to_excel(writer, index=False, sheet_name='ATIVAÇÕES')\n",
    "\n",
    "\n",
    "with pd.ExcelWriter(destination_path2, engine='openpyxl') as writer:\n",
    "    df_final_ativacoes_concat.to_excel(writer, index=False, sheet_name='ATIVAÇÕES')\n",
    "\n",
    "\n"
   ]
  },
  {
   "cell_type": "code",
   "execution_count": 16,
   "id": "18f3a337",
   "metadata": {},
   "outputs": [
    {
     "data": {
      "text/plain": [
       "33025"
      ]
     },
     "execution_count": 16,
     "metadata": {},
     "output_type": "execute_result"
    }
   ],
   "source": [
    "df_final_ativacoes_concat_semdup = df_final_ativacoes_concat.drop_duplicates(subset=['chassi'])\n",
    "df_final_ativacoes_concat_semdup.shape[0]"
   ]
  }
 ],
 "metadata": {
  "kernelspec": {
   "display_name": "env2",
   "language": "python",
   "name": "python3"
  },
  "language_info": {
   "codemirror_mode": {
    "name": "ipython",
    "version": 3
   },
   "file_extension": ".py",
   "mimetype": "text/x-python",
   "name": "python",
   "nbconvert_exporter": "python",
   "pygments_lexer": "ipython3",
   "version": "3.12.4"
  }
 },
 "nbformat": 4,
 "nbformat_minor": 5
}
